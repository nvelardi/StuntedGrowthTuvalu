{
 "cells": [
  {
   "cell_type": "markdown",
   "metadata": {},
   "source": [
    "# Gradient Boosting\n",
    "\n",
    "### 1. Predicting Survived\n",
    "##### 1.1 Import the data"
   ]
  },
  {
   "cell_type": "code",
   "execution_count": 4,
   "metadata": {},
   "outputs": [],
   "source": [
    "import pandas as pd\n",
    "import numpy as np\n",
    "import warnings\n",
    "warnings.filterwarnings('ignore')\n",
    "\n",
    "np.random.seed(12356)\n",
    "df = pd.read_csv(\"malnutrition-estimates.csv\")"
   ]
  },
  {
   "cell_type": "code",
   "execution_count": 10,
   "metadata": {},
   "outputs": [
    {
     "data": {
      "text/plain": [
       "Index(['Unnamed: 0', 'ISO code', 'Country', 'Survey Year', 'Year',\n",
       "       'Income Classification', 'LDC', 'LIFD', 'LLDC or SID2',\n",
       "       'Survey Sample (N)', 'Severe Wasting', 'Wasting', 'Overweight',\n",
       "       'Stunting', 'Underweight', 'Notes', 'Report Author', 'Source',\n",
       "       'Short Source', 'U5 Population ('000s)'],\n",
       "      dtype='object')"
      ]
     },
     "execution_count": 10,
     "metadata": {},
     "output_type": "execute_result"
    }
   ],
   "source": [
    "df.columns"
   ]
  },
  {
   "cell_type": "code",
   "execution_count": 17,
   "metadata": {},
   "outputs": [
    {
     "data": {
      "text/html": [
       "<div>\n",
       "<style scoped>\n",
       "    .dataframe tbody tr th:only-of-type {\n",
       "        vertical-align: middle;\n",
       "    }\n",
       "\n",
       "    .dataframe tbody tr th {\n",
       "        vertical-align: top;\n",
       "    }\n",
       "\n",
       "    .dataframe thead th {\n",
       "        text-align: right;\n",
       "    }\n",
       "</style>\n",
       "<table border=\"1\" class=\"dataframe\">\n",
       "  <thead>\n",
       "    <tr style=\"text-align: right;\">\n",
       "      <th></th>\n",
       "      <th>Unnamed: 0</th>\n",
       "      <th>ISO code</th>\n",
       "      <th>Country</th>\n",
       "      <th>Survey Year</th>\n",
       "      <th>Year</th>\n",
       "      <th>Income Classification</th>\n",
       "      <th>LDC</th>\n",
       "      <th>LIFD</th>\n",
       "      <th>LLDC or SID2</th>\n",
       "      <th>Survey Sample (N)</th>\n",
       "      <th>Severe Wasting</th>\n",
       "      <th>Wasting</th>\n",
       "      <th>Overweight</th>\n",
       "      <th>Stunting</th>\n",
       "      <th>Underweight</th>\n",
       "      <th>Notes</th>\n",
       "      <th>Report Author</th>\n",
       "      <th>Source</th>\n",
       "      <th>Short Source</th>\n",
       "      <th>U5 Population ('000s)</th>\n",
       "    </tr>\n",
       "  </thead>\n",
       "  <tbody>\n",
       "    <tr>\n",
       "      <th>0</th>\n",
       "      <td>0</td>\n",
       "      <td>AFG</td>\n",
       "      <td>AFGHANISTAN</td>\n",
       "      <td>1997</td>\n",
       "      <td>1997</td>\n",
       "      <td>0</td>\n",
       "      <td>1.0</td>\n",
       "      <td>1.0</td>\n",
       "      <td>1.0</td>\n",
       "      <td>4,846</td>\n",
       "      <td>NaN</td>\n",
       "      <td>18.2</td>\n",
       "      <td>6.5</td>\n",
       "      <td>53.2</td>\n",
       "      <td>44.9</td>\n",
       "      <td>Converted estimates</td>\n",
       "      <td>CIET International</td>\n",
       "      <td>Afghanistan 1997 multiple indicator baseline (...</td>\n",
       "      <td>MICS</td>\n",
       "      <td>3838.877</td>\n",
       "    </tr>\n",
       "    <tr>\n",
       "      <th>1</th>\n",
       "      <td>1</td>\n",
       "      <td>AFG</td>\n",
       "      <td>AFGHANISTAN</td>\n",
       "      <td>2004</td>\n",
       "      <td>2004</td>\n",
       "      <td>0</td>\n",
       "      <td>1.0</td>\n",
       "      <td>1.0</td>\n",
       "      <td>1.0</td>\n",
       "      <td>946</td>\n",
       "      <td>3.5</td>\n",
       "      <td>8.6</td>\n",
       "      <td>4.6</td>\n",
       "      <td>59.3</td>\n",
       "      <td>32.9</td>\n",
       "      <td>NaN</td>\n",
       "      <td>Ministry of Public Health (Afghanistan), UNICE...</td>\n",
       "      <td>Summary report of the national nutrition surve...</td>\n",
       "      <td>NNS</td>\n",
       "      <td>4789.353</td>\n",
       "    </tr>\n",
       "    <tr>\n",
       "      <th>2</th>\n",
       "      <td>2</td>\n",
       "      <td>AFG</td>\n",
       "      <td>AFGHANISTAN</td>\n",
       "      <td>2013</td>\n",
       "      <td>2013</td>\n",
       "      <td>0</td>\n",
       "      <td>1.0</td>\n",
       "      <td>1.0</td>\n",
       "      <td>1.0</td>\n",
       "      <td>44,26,469</td>\n",
       "      <td>4.0</td>\n",
       "      <td>9.5</td>\n",
       "      <td>5.3</td>\n",
       "      <td>40.4</td>\n",
       "      <td>24.6</td>\n",
       "      <td>NaN</td>\n",
       "      <td>Ministry of Public Health, UNICEF and the Aga ...</td>\n",
       "      <td>Afghanistan National Nutrition Survey 2013.</td>\n",
       "      <td>SMART</td>\n",
       "      <td>5444.573</td>\n",
       "    </tr>\n",
       "    <tr>\n",
       "      <th>3</th>\n",
       "      <td>3</td>\n",
       "      <td>AFG</td>\n",
       "      <td>AFGHANISTAN</td>\n",
       "      <td>2018</td>\n",
       "      <td>2018</td>\n",
       "      <td>0</td>\n",
       "      <td>1.0</td>\n",
       "      <td>1.0</td>\n",
       "      <td>1.0</td>\n",
       "      <td>NaN</td>\n",
       "      <td>1.6</td>\n",
       "      <td>5.1</td>\n",
       "      <td>4.1</td>\n",
       "      <td>38.2</td>\n",
       "      <td>19.1</td>\n",
       "      <td>NaN</td>\n",
       "      <td>KIT Royal Tropical Institute</td>\n",
       "      <td>Afghanistan Health Survey 2018</td>\n",
       "      <td>Other</td>\n",
       "      <td>5601.443</td>\n",
       "    </tr>\n",
       "    <tr>\n",
       "      <th>4</th>\n",
       "      <td>4</td>\n",
       "      <td>ALB</td>\n",
       "      <td>ALBANIA</td>\n",
       "      <td>1996-98</td>\n",
       "      <td>1997</td>\n",
       "      <td>2</td>\n",
       "      <td>0.0</td>\n",
       "      <td>0.0</td>\n",
       "      <td>0.0</td>\n",
       "      <td>7,642</td>\n",
       "      <td>NaN</td>\n",
       "      <td>8.1</td>\n",
       "      <td>9.5</td>\n",
       "      <td>20.4</td>\n",
       "      <td>7.1</td>\n",
       "      <td>Converted estimates</td>\n",
       "      <td>Institute of Public Health, Food and Nutrition...</td>\n",
       "      <td>National study on nutrition in Albania. Instit...</td>\n",
       "      <td>Other</td>\n",
       "      <td>309.225</td>\n",
       "    </tr>\n",
       "    <tr>\n",
       "      <th>...</th>\n",
       "      <td>...</td>\n",
       "      <td>...</td>\n",
       "      <td>...</td>\n",
       "      <td>...</td>\n",
       "      <td>...</td>\n",
       "      <td>...</td>\n",
       "      <td>...</td>\n",
       "      <td>...</td>\n",
       "      <td>...</td>\n",
       "      <td>...</td>\n",
       "      <td>...</td>\n",
       "      <td>...</td>\n",
       "      <td>...</td>\n",
       "      <td>...</td>\n",
       "      <td>...</td>\n",
       "      <td>...</td>\n",
       "      <td>...</td>\n",
       "      <td>...</td>\n",
       "      <td>...</td>\n",
       "      <td>...</td>\n",
       "    </tr>\n",
       "    <tr>\n",
       "      <th>919</th>\n",
       "      <td>919</td>\n",
       "      <td>ZWE</td>\n",
       "      <td>ZIMBABWE</td>\n",
       "      <td>2009</td>\n",
       "      <td>2009</td>\n",
       "      <td>1</td>\n",
       "      <td>0.0</td>\n",
       "      <td>1.0</td>\n",
       "      <td>1.0</td>\n",
       "      <td>6,196</td>\n",
       "      <td>0.5</td>\n",
       "      <td>2.4</td>\n",
       "      <td>3.5</td>\n",
       "      <td>35.1</td>\n",
       "      <td>11.7</td>\n",
       "      <td>NaN</td>\n",
       "      <td>Zimbabwe National Statistics Agency (ZIMSTAT).</td>\n",
       "      <td>Zimbabwe multiple indicator monitoring survey ...</td>\n",
       "      <td>MICS</td>\n",
       "      <td>1938.279</td>\n",
       "    </tr>\n",
       "    <tr>\n",
       "      <th>920</th>\n",
       "      <td>920</td>\n",
       "      <td>ZWE</td>\n",
       "      <td>ZIMBABWE</td>\n",
       "      <td>2010-11</td>\n",
       "      <td>2010</td>\n",
       "      <td>1</td>\n",
       "      <td>0.0</td>\n",
       "      <td>1.0</td>\n",
       "      <td>1.0</td>\n",
       "      <td>5,414</td>\n",
       "      <td>0.8</td>\n",
       "      <td>3.2</td>\n",
       "      <td>5.8</td>\n",
       "      <td>32.2</td>\n",
       "      <td>10.2</td>\n",
       "      <td>NaN</td>\n",
       "      <td>Zimbabwe National Statistics Agency (ZIMSTAT) ...</td>\n",
       "      <td>Zimbabwe demographic and health survey 2010-11...</td>\n",
       "      <td>DHS</td>\n",
       "      <td>1997.281</td>\n",
       "    </tr>\n",
       "    <tr>\n",
       "      <th>921</th>\n",
       "      <td>921</td>\n",
       "      <td>ZWE</td>\n",
       "      <td>ZIMBABWE</td>\n",
       "      <td>2014</td>\n",
       "      <td>2014</td>\n",
       "      <td>1</td>\n",
       "      <td>0.0</td>\n",
       "      <td>1.0</td>\n",
       "      <td>1.0</td>\n",
       "      <td>9,591</td>\n",
       "      <td>0.7</td>\n",
       "      <td>3.2</td>\n",
       "      <td>3.6</td>\n",
       "      <td>27.6</td>\n",
       "      <td>11.2</td>\n",
       "      <td>NaN</td>\n",
       "      <td>Zimbabwe National Statistics Agency (ZIMSTAT).</td>\n",
       "      <td>Zimbabwe Multiple Indicator Cluster Survey 201...</td>\n",
       "      <td>MICS</td>\n",
       "      <td>2236.182</td>\n",
       "    </tr>\n",
       "    <tr>\n",
       "      <th>922</th>\n",
       "      <td>922</td>\n",
       "      <td>ZWE</td>\n",
       "      <td>ZIMBABWE</td>\n",
       "      <td>2015</td>\n",
       "      <td>2015</td>\n",
       "      <td>1</td>\n",
       "      <td>0.0</td>\n",
       "      <td>1.0</td>\n",
       "      <td>1.0</td>\n",
       "      <td>6,380</td>\n",
       "      <td>1.1</td>\n",
       "      <td>3.3</td>\n",
       "      <td>5.6</td>\n",
       "      <td>27.1</td>\n",
       "      <td>8.5</td>\n",
       "      <td>NaN</td>\n",
       "      <td>Zimbabwe National Statistics Agency; ICF Inter...</td>\n",
       "      <td>Zimbabwe Demographic and Health Survey 2015, N...</td>\n",
       "      <td>DHS</td>\n",
       "      <td>2258.788</td>\n",
       "    </tr>\n",
       "    <tr>\n",
       "      <th>923</th>\n",
       "      <td>923</td>\n",
       "      <td>ZWE</td>\n",
       "      <td>ZIMBABWE</td>\n",
       "      <td>2019</td>\n",
       "      <td>2019</td>\n",
       "      <td>1</td>\n",
       "      <td>0.0</td>\n",
       "      <td>1.0</td>\n",
       "      <td>1.0</td>\n",
       "      <td>5,978</td>\n",
       "      <td>0.3</td>\n",
       "      <td>2.9</td>\n",
       "      <td>2.5</td>\n",
       "      <td>23.5</td>\n",
       "      <td>9.7</td>\n",
       "      <td>NaN</td>\n",
       "      <td>Zimbabwe National Statistics Agency (ZIMSTAT) ...</td>\n",
       "      <td>Zimbabwe Multiple Indicator Cluster Survey 2019</td>\n",
       "      <td>MICS</td>\n",
       "      <td>2138.020</td>\n",
       "    </tr>\n",
       "  </tbody>\n",
       "</table>\n",
       "<p>924 rows × 20 columns</p>\n",
       "</div>"
      ],
      "text/plain": [
       "     Unnamed: 0 ISO code      Country Survey Year  Year  \\\n",
       "0             0      AFG  AFGHANISTAN        1997  1997   \n",
       "1             1      AFG  AFGHANISTAN        2004  2004   \n",
       "2             2      AFG  AFGHANISTAN        2013  2013   \n",
       "3             3      AFG  AFGHANISTAN        2018  2018   \n",
       "4             4      ALB      ALBANIA     1996-98  1997   \n",
       "..          ...      ...          ...         ...   ...   \n",
       "919         919      ZWE     ZIMBABWE        2009  2009   \n",
       "920         920      ZWE     ZIMBABWE     2010-11  2010   \n",
       "921         921      ZWE     ZIMBABWE        2014  2014   \n",
       "922         922      ZWE     ZIMBABWE        2015  2015   \n",
       "923         923      ZWE     ZIMBABWE        2019  2019   \n",
       "\n",
       "     Income Classification  LDC  LIFD  LLDC or SID2 Survey Sample (N)  \\\n",
       "0                        0  1.0   1.0           1.0             4,846   \n",
       "1                        0  1.0   1.0           1.0               946   \n",
       "2                        0  1.0   1.0           1.0         44,26,469   \n",
       "3                        0  1.0   1.0           1.0               NaN   \n",
       "4                        2  0.0   0.0           0.0             7,642   \n",
       "..                     ...  ...   ...           ...               ...   \n",
       "919                      1  0.0   1.0           1.0             6,196   \n",
       "920                      1  0.0   1.0           1.0             5,414   \n",
       "921                      1  0.0   1.0           1.0             9,591   \n",
       "922                      1  0.0   1.0           1.0             6,380   \n",
       "923                      1  0.0   1.0           1.0             5,978   \n",
       "\n",
       "     Severe Wasting  Wasting  Overweight  Stunting  Underweight  \\\n",
       "0               NaN     18.2         6.5      53.2         44.9   \n",
       "1               3.5      8.6         4.6      59.3         32.9   \n",
       "2               4.0      9.5         5.3      40.4         24.6   \n",
       "3               1.6      5.1         4.1      38.2         19.1   \n",
       "4               NaN      8.1         9.5      20.4          7.1   \n",
       "..              ...      ...         ...       ...          ...   \n",
       "919             0.5      2.4         3.5      35.1         11.7   \n",
       "920             0.8      3.2         5.8      32.2         10.2   \n",
       "921             0.7      3.2         3.6      27.6         11.2   \n",
       "922             1.1      3.3         5.6      27.1          8.5   \n",
       "923             0.3      2.9         2.5      23.5          9.7   \n",
       "\n",
       "                   Notes                                      Report Author  \\\n",
       "0    Converted estimates                                 CIET International   \n",
       "1                    NaN  Ministry of Public Health (Afghanistan), UNICE...   \n",
       "2                    NaN  Ministry of Public Health, UNICEF and the Aga ...   \n",
       "3                    NaN                       KIT Royal Tropical Institute   \n",
       "4    Converted estimates  Institute of Public Health, Food and Nutrition...   \n",
       "..                   ...                                                ...   \n",
       "919                  NaN     Zimbabwe National Statistics Agency (ZIMSTAT).   \n",
       "920                  NaN  Zimbabwe National Statistics Agency (ZIMSTAT) ...   \n",
       "921                  NaN     Zimbabwe National Statistics Agency (ZIMSTAT).   \n",
       "922                  NaN  Zimbabwe National Statistics Agency; ICF Inter...   \n",
       "923                  NaN  Zimbabwe National Statistics Agency (ZIMSTAT) ...   \n",
       "\n",
       "                                                Source Short Source  \\\n",
       "0    Afghanistan 1997 multiple indicator baseline (...         MICS   \n",
       "1    Summary report of the national nutrition surve...          NNS   \n",
       "2          Afghanistan National Nutrition Survey 2013.        SMART   \n",
       "3                       Afghanistan Health Survey 2018        Other   \n",
       "4    National study on nutrition in Albania. Instit...        Other   \n",
       "..                                                 ...          ...   \n",
       "919  Zimbabwe multiple indicator monitoring survey ...         MICS   \n",
       "920  Zimbabwe demographic and health survey 2010-11...          DHS   \n",
       "921  Zimbabwe Multiple Indicator Cluster Survey 201...         MICS   \n",
       "922  Zimbabwe Demographic and Health Survey 2015, N...          DHS   \n",
       "923    Zimbabwe Multiple Indicator Cluster Survey 2019         MICS   \n",
       "\n",
       "     U5 Population ('000s)  \n",
       "0                 3838.877  \n",
       "1                 4789.353  \n",
       "2                 5444.573  \n",
       "3                 5601.443  \n",
       "4                  309.225  \n",
       "..                     ...  \n",
       "919               1938.279  \n",
       "920               1997.281  \n",
       "921               2236.182  \n",
       "922               2258.788  \n",
       "923               2138.020  \n",
       "\n",
       "[924 rows x 20 columns]"
      ]
     },
     "execution_count": 17,
     "metadata": {},
     "output_type": "execute_result"
    }
   ],
   "source": [
    "df"
   ]
  },
  {
   "cell_type": "code",
   "execution_count": 21,
   "metadata": {},
   "outputs": [
    {
     "data": {
      "image/png": "[encoded data removed]",
      "text/plain": [
       "<Figure size 474.125x360 with 1 Axes>"
      ]
     },
     "metadata": {
      "needs_background": "light"
     },
     "output_type": "display_data"
    }
   ],
   "source": [
    "import seaborn as sns\n",
    "\n",
    "ax = sns.catplot(x=\"LLDC or SID2\", hue=\"Income Classification\", kind=\"count\", palette=\"pastel\",\n",
    "             edgecolor=\".6\",\n",
    "            data=df)"
   ]
  },
  {
   "cell_type": "code",
   "execution_count": 31,
   "metadata": {},
   "outputs": [],
   "source": [
    "# Create a binary variable\n",
    "\n",
    "df['Stunting'].median()\n",
    "df['Stunting_categorical'] = ['Small' if i<29.2 else 'Larger' for i in df.Stunting]"
   ]
  },
  {
   "cell_type": "code",
   "execution_count": 30,
   "metadata": {},
   "outputs": [
    {
     "data": {
      "image/png": "[encoded data removed]",
      "text/plain": [
       "<Figure size 474.125x360 with 1 Axes>"
      ]
     },
     "metadata": {
      "needs_background": "light"
     },
     "output_type": "display_data"
    }
   ],
   "source": [
    "import seaborn as sns\n",
    "\n",
    "ax = sns.catplot(x=\"Stunting_categorical\", hue=\"Income Classification\", kind=\"count\", palette=\"pastel\",\n",
    "             edgecolor=\".6\",\n",
    "            data=df)"
   ]
  },
  {
   "cell_type": "code",
   "execution_count": 34,
   "metadata": {},
   "outputs": [
    {
     "data": {
      "image/png": "[encoded data removed]",
      "text/plain": [
       "<Figure size 432x288 with 1 Axes>"
      ]
     },
     "metadata": {
      "needs_background": "light"
     },
     "output_type": "display_data"
    }
   ],
   "source": [
    "from scipy import stats\n",
    "ax = sns.distplot(df['Stunting'], kde=False, fit=stats.gamma)"
   ]
  },
  {
   "cell_type": "markdown",
   "metadata": {
    "tags": []
   },
   "source": [
    "##### 1.2 Assign input and output variabble"
   ]
  },
  {
   "cell_type": "code",
   "execution_count": 25,
   "metadata": {},
   "outputs": [
    {
     "ename": "AttributeError",
     "evalue": "'NoneType' object has no attribute 'loc'",
     "output_type": "error",
     "traceback": [
      "\u001b[1;31m---------------------------------------------------------------------------\u001b[0m",
      "\u001b[1;31mAttributeError\u001b[0m                            Traceback (most recent call last)",
      "Cell \u001b[1;32mIn[25], line 2\u001b[0m\n\u001b[0;32m      1\u001b[0m \u001b[38;5;66;03m# Assign input variables\u001b[39;00m\n\u001b[1;32m----> 2\u001b[0m X \u001b[38;5;241m=\u001b[39m df\u001b[38;5;241m.\u001b[39mloc[:,[\u001b[38;5;124m\"\u001b[39m\u001b[38;5;124mIncome Classification\u001b[39m\u001b[38;5;124m\"\u001b[39m,\u001b[38;5;124m\"\u001b[39m\u001b[38;5;124mSevere Wasting\u001b[39m\u001b[38;5;124m\"\u001b[39m,\u001b[38;5;124m\"\u001b[39m\u001b[38;5;124mWasting\u001b[39m\u001b[38;5;124m\"\u001b[39m,\u001b[38;5;124m\"\u001b[39m\u001b[38;5;124mOverweight\u001b[39m\u001b[38;5;124m\"\u001b[39m]]\n\u001b[0;32m      4\u001b[0m \u001b[38;5;66;03m# Assign target variable\u001b[39;00m\n\u001b[0;32m      5\u001b[0m y \u001b[38;5;241m=\u001b[39m df[\u001b[38;5;124m'\u001b[39m\u001b[38;5;124mStunting\u001b[39m\u001b[38;5;124m'\u001b[39m]\n",
      "\u001b[1;31mAttributeError\u001b[0m: 'NoneType' object has no attribute 'loc'"
     ]
    }
   ],
   "source": [
    "# Assign input variables\n",
    "X = df.loc[:,[\"Income Classification\",\"Severe Wasting\",\"Wasting\",\"Overweight\"]]\n",
    "\n",
    "# Assign target variable\n",
    "y = df['Stunting']"
   ]
  },
  {
   "cell_type": "markdown",
   "metadata": {},
   "source": [
    "##### 1.3 Handle some missing and fix variables types"
   ]
  },
  {
   "cell_type": "code",
   "execution_count": null,
   "metadata": {},
   "outputs": [],
   "source": [
    "# Replace missing values by the median\n",
    "#X[\"Age\"] = X[\"Age\"].fillna(X[\"Age\"].median())\n",
    "\n",
    "# Impute the Embarked variable\n",
    "#X[\"Embarked\"] = X[\"Embarked\"].fillna(\"S\")\n",
    "# Change Pclass to categorical variable\n",
    "#X['Pclass'] = X['Pclass'].astype(object)"
   ]
  },
  {
   "cell_type": "markdown",
   "metadata": {},
   "source": [
    "##### 1.4 Encode categorical variable"
   ]
  },
  {
   "cell_type": "code",
   "execution_count": null,
   "metadata": {},
   "outputs": [],
   "source": [
    "X = pd.get_dummies(X)"
   ]
  },
  {
   "cell_type": "markdown",
   "metadata": {
    "tags": []
   },
   "source": [
    "##### 1.5 Split the data"
   ]
  },
  {
   "cell_type": "code",
   "execution_count": 7,
   "metadata": {},
   "outputs": [
    {
     "ename": "NameError",
     "evalue": "name 'X' is not defined",
     "output_type": "error",
     "traceback": [
      "\u001b[1;31m---------------------------------------------------------------------------\u001b[0m",
      "\u001b[1;31mNameError\u001b[0m                                 Traceback (most recent call last)",
      "Cell \u001b[1;32mIn[7], line 2\u001b[0m\n\u001b[0;32m      1\u001b[0m \u001b[38;5;28;01mfrom\u001b[39;00m \u001b[38;5;21;01msklearn\u001b[39;00m\u001b[38;5;21;01m.\u001b[39;00m\u001b[38;5;21;01mmodel_selection\u001b[39;00m \u001b[38;5;28;01mimport\u001b[39;00m train_test_split\n\u001b[1;32m----> 2\u001b[0m x_train,x_test,y_train,y_test\u001b[38;5;241m=\u001b[39mtrain_test_split(X,y,test_size\u001b[38;5;241m=\u001b[39m\u001b[38;5;241m0.3\u001b[39m)\n",
      "\u001b[1;31mNameError\u001b[0m: name 'X' is not defined"
     ]
    }
   ],
   "source": [
    "from sklearn.model_selection import train_test_split\n",
    "x_train,x_test,y_train,y_test=train_test_split(X,y,test_size=0.3)"
   ]
  },
  {
   "cell_type": "markdown",
   "metadata": {},
   "source": [
    "##### 1.6 Setup and Train a gradient Boosting"
   ]
  },
  {
   "cell_type": "code",
   "execution_count": null,
   "metadata": {
    "tags": []
   },
   "outputs": [],
   "source": [
    "from sklearn.ensemble import GradientBoostingClassifier\n",
    "r1 = GradientBoostingClassifier(n_estimators=100, learning_rate=1)\n",
    "r1.fit(x_train, y_train)\n",
    "\n",
    "\n",
    "ypred_test = r1.predict(x_test)\n",
    "from sklearn.metrics import confusion_matrix\n",
    "mat = confusion_matrix(ypred_test, y_test)\n",
    "print('===============')\n",
    "print('Confusion Matrix:')\n",
    "print(mat)\n",
    "print('===============')\n",
    "print('Testing Accuracy:')\n",
    "print(mat.diagonal().sum()/mat.sum())\n",
    "print('===============')\n"
   ]
  },
  {
   "cell_type": "markdown",
   "metadata": {},
   "source": [
    "### Variable Importance"
   ]
  },
  {
   "cell_type": "code",
   "execution_count": 8,
   "metadata": {},
   "outputs": [
    {
     "ename": "NameError",
     "evalue": "name 'r1' is not defined",
     "output_type": "error",
     "traceback": [
      "\u001b[1;31m---------------------------------------------------------------------------\u001b[0m",
      "\u001b[1;31mNameError\u001b[0m                                 Traceback (most recent call last)",
      "Cell \u001b[1;32mIn[8], line 4\u001b[0m\n\u001b[0;32m      1\u001b[0m \u001b[38;5;28;01mimport\u001b[39;00m \u001b[38;5;21;01mwarnings\u001b[39;00m\n\u001b[0;32m      2\u001b[0m warnings\u001b[38;5;241m.\u001b[39mfilterwarnings(\u001b[38;5;124m'\u001b[39m\u001b[38;5;124mignore\u001b[39m\u001b[38;5;124m'\u001b[39m)\n\u001b[1;32m----> 4\u001b[0m sorted_idx \u001b[38;5;241m=\u001b[39m (\u001b[38;5;241m-\u001b[39mr1\u001b[38;5;241m.\u001b[39mfeature_importances_)\u001b[38;5;241m.\u001b[39margsort()\n\u001b[0;32m      6\u001b[0m feature_importance \u001b[38;5;241m=\u001b[39m pd\u001b[38;5;241m.\u001b[39mDataFrame({\u001b[38;5;124m'\u001b[39m\u001b[38;5;124mVariables\u001b[39m\u001b[38;5;124m'\u001b[39m:x_train\u001b[38;5;241m.\u001b[39mcolumns[sorted_idx], \u001b[38;5;124m'\u001b[39m\u001b[38;5;124mImportance\u001b[39m\u001b[38;5;124m'\u001b[39m:r1\u001b[38;5;241m.\u001b[39mfeature_importances_[sorted_idx]})\n\u001b[0;32m      7\u001b[0m df \u001b[38;5;241m=\u001b[39m feature_importance[:\u001b[38;5;241m10\u001b[39m]\n",
      "\u001b[1;31mNameError\u001b[0m: name 'r1' is not defined"
     ]
    }
   ],
   "source": [
    "import warnings\n",
    "warnings.filterwarnings('ignore')\n",
    "\n",
    "sorted_idx = (-r1.feature_importances_).argsort()\n",
    "\n",
    "feature_importance = pd.DataFrame({'Variables':x_train.columns[sorted_idx], 'Importance':r1.feature_importances_[sorted_idx]})\n",
    "df = feature_importance[:10]\n",
    "df.sort_values('Importance',inplace=True)\n",
    "\n",
    "df.plot(kind='barh',y='Importance',x='Variables', legend=False)"
   ]
  },
  {
   "cell_type": "markdown",
   "metadata": {},
   "source": [
    "### Learning Rate"
   ]
  },
  {
   "cell_type": "code",
   "execution_count": null,
   "metadata": {},
   "outputs": [],
   "source": [
    "# Plot the Training Accuracy of gradient boosting with n_estimators running from n1 to n2 \n",
    "# and two learning rates l1 and l2. \n",
    "\n",
    "n1 = 1\n",
    "n2 = 100\n",
    "l1 = .1\n",
    "l2 = 1\n",
    "\n",
    "ac = pd.DataFrame([], columns=list(['Rounds','Learning Rate','Accuracy']))\n",
    "from sklearn.tree import DecisionTreeClassifier\n",
    "for rs in range(n1, n2):\n",
    "    for lr in [l1, l2]:\n",
    "        boost = GradientBoostingClassifier(n_estimators=rs, learning_rate=lr)\n",
    "        boost.fit(x_train,y_train)\n",
    "        ac = pd.concat([ac, pd.DataFrame([[rs, lr, boost.score(x_train,y_train)]], \n",
    "                                    columns=list(['Rounds','Learning Rate','Training Accuracy']))], \n",
    "                       ignore_index=True)\n",
    "        \n",
    "\n",
    "import seaborn as sns; sns.set()\n",
    "import matplotlib.pyplot as plt\n",
    "ax = sns.lineplot(x=\"Rounds\", y=\"Training Accuracy\", \n",
    "                  hue =ac['Learning Rate'].astype('category'),data=ac)\n",
    "ax.text(x=0.5, y=1.1, s='Learning fast vs. Learning slow', \n",
    "        fontsize=16, weight='bold', ha='center', va='bottom', transform=ax.transAxes)"
   ]
  },
  {
   "cell_type": "code",
   "execution_count": null,
   "metadata": {},
   "outputs": [],
   "source": [
    "# Plot the Training Accuracy of gradient boosting with n_estimators running from n1 to n2 \n",
    "# and two learning rates l1 and l2. \n",
    "\n",
    "n1 = 1\n",
    "n2 = 100\n",
    "l1 = .1\n",
    "l2 = 1\n",
    "\n",
    "ac = pd.DataFrame([], columns=list(['Rounds','Learning Rate','Accuracy']))\n",
    "from sklearn.tree import DecisionTreeClassifier\n",
    "for rs in range(n1, n2):\n",
    "    for lr in [l1, l2]:\n",
    "        boost = GradientBoostingClassifier(n_estimators=rs, learning_rate=lr)\n",
    "        boost.fit(x_train,y_train)\n",
    "        ac = pd.concat([ac, pd.DataFrame([[rs, lr, boost.score(x_test,y_test)]], \n",
    "                                    columns=list(['Rounds','Learning Rate','Test Accuracy']))], \n",
    "                       ignore_index=True)\n",
    "        \n",
    "\n",
    "import seaborn as sns; sns.set()\n",
    "import matplotlib.pyplot as plt\n",
    "ax = sns.lineplot(x=\"Rounds\", y=\"Test Accuracy\", \n",
    "                  hue =ac['Learning Rate'].astype('category'),data=ac)\n",
    "ax.text(x=0.5, y=1.1, s='Learning fast vs. Learning slow', \n",
    "        fontsize=16, weight='bold', ha='center', va='bottom', transform=ax.transAxes)"
   ]
  },
  {
   "cell_type": "markdown",
   "metadata": {},
   "source": [
    "### 2. Practice\n",
    "\n",
    "Predicting Breast Cancer.\n",
    "\n",
    "1. Import the breast cancer dataset. The data can be downloaded at this [link](https://bryantstats.github.io/math460/python/breast_cancer.csv)\n",
    "\n",
    "2. Set the input (X) and output (y) (Use `df.columns` to see all the columns to easier copy/paste). Split the data into 60% training and 40% testing\n",
    "\n",
    "3. Train a gradient boosting model with 200 n_estimators and .1 learning rare. What is testing accuracy of the gradient boosting?\n",
    "\n",
    "4. What is the most important variable according to the above gradient boosting model in predicting breast cancer?\n",
    "\n",
    "5. Find a gradient boosting (try a few different of `n_estimators` and `learning_rate`) that have a higher testing accuracy than the above gradient boosting. What is the n_estimators and learning of this gradient boosting? "
   ]
  }
 ],
 "metadata": {
  "kernelspec": {
   "display_name": "Python 3",
   "language": "python",
   "name": "python3"
  },
  "language_info": {
   "codemirror_mode": {
    "name": "ipython",
    "version": 3
   },
   "file_extension": ".py",
   "mimetype": "text/x-python",
   "name": "python",
   "nbconvert_exporter": "python",
   "pygments_lexer": "ipython3",
   "version": "3.9.12"
  }
 },
 "nbformat": 4,
 "nbformat_minor": 4
}
