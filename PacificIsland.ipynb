{
 "cells": [
  {
   "cell_type": "code",
   "execution_count": 2,
   "id": "71837906-1421-424d-b716-aa8d9fdb2835",
   "metadata": {
    "tags": []
   },
   "outputs": [],
   "source": [
    "import pandas as pd\n",
    "import numpy as np\n",
    "import warnings\n",
    "warnings.filterwarnings('ignore')\n",
    "\n",
    "np.random.seed(12356)\n",
    "df = pd.read_csv(\"PacificIsland.csv\")"
   ]
  },
  {
   "cell_type": "code",
   "execution_count": 3,
   "id": "b12359ad-bacc-42a7-84be-d20cafc1342a",
   "metadata": {
    "tags": []
   },
   "outputs": [
    {
     "data": {
      "text/plain": [
       "Index(['Country', 'Year', 'PovertyHCR', 'LifeExpenctancy', 'Population',\n",
       "       'PopulationGrowth', 'NetMigration', 'GDP', 'GDPGrowth', 'Unemployment',\n",
       "       'Inflation', 'ReceivedRemittances', 'AccessElectricity', 'CO2Emissions',\n",
       "       'SanitationServices', 'InternetUsage', 'ForeignDirectInvestment',\n",
       "       'StuntingPrevalence'],\n",
       "      dtype='object')"
      ]
     },
     "execution_count": 3,
     "metadata": {},
     "output_type": "execute_result"
    }
   ],
   "source": [
    "df.columns"
   ]
  },
  {
   "cell_type": "code",
   "execution_count": null,
   "id": "5ebf7a03-9b12-4605-adeb-7a403d37c724",
   "metadata": {},
   "outputs": [],
   "source": []
  }
 ],
 "metadata": {
  "kernelspec": {
   "display_name": "Python 3 (ipykernel)",
   "language": "python",
   "name": "python3"
  },
  "language_info": {
   "codemirror_mode": {
    "name": "ipython",
    "version": 3
   },
   "file_extension": ".py",
   "mimetype": "text/x-python",
   "name": "python",
   "nbconvert_exporter": "python",
   "pygments_lexer": "ipython3",
   "version": "3.11.5"
  }
 },
 "nbformat": 4,
 "nbformat_minor": 5
}
